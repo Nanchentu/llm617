{
 "cells": [
  {
   "cell_type": "code",
   "execution_count": 3,
   "id": "b9f93023-d93d-425a-b3f6-d6163552eb3b",
   "metadata": {},
   "outputs": [
    {
     "name": "stdout",
     "output_type": "stream",
     "text": [
      "✅ File loaded successfully! Total samples: 90\n",
      "Columns: ['topic_id', 'pair_type', 'topic_statement', 'A_occupation', 'A_region', 'A_pref', 'B_occupation', 'B_region', 'B_pref', 'round1_A', 'round1_B', 'round2_A', 'round2_B', 'round3_A', 'round3_B', 'reflection_A', 'reflection_B']\n",
      "✅ Combined dialogues successfully.\n"
     ]
    },
    {
     "name": "stderr",
     "output_type": "stream",
     "text": [
      "🧠 Evaluating with Qwen2.5-7B...: 100%|█████████| 90/90 [05:37<00:00,  3.75s/it]"
     ]
    },
    {
     "name": "stdout",
     "output_type": "stream",
     "text": [
      "✅ Done! Results saved as debate_results_qwen_local.csv\n"
     ]
    },
    {
     "name": "stderr",
     "output_type": "stream",
     "text": [
      "\n"
     ]
    }
   ],
   "source": [
    "import pandas as pd\n",
    "import requests\n",
    "import json\n",
    "import re\n",
    "import time\n",
    "from tqdm import tqdm\n",
    "\n",
    "\n",
    "df = pd.read_csv(\"debate_results_llama3.csv\", encoding=\"utf-8\")\n",
    "print(f\"✅ File loaded successfully! Total samples: {len(df)}\")\n",
    "print(\"Columns:\", df.columns.tolist())\n",
    "\n",
    "\n",
    "if \"combined_dialogue\" not in df.columns:\n",
    "    dialogue_cols = [c for c in df.columns if c.startswith(\"round\") or \"reflection\" in c]\n",
    "    df[\"combined_dialogue\"] = df[dialogue_cols].astype(str).apply(lambda x: \"\\n\".join(x), axis=1)\n",
    "    print(\"✅ Combined dialogues successfully.\")\n",
    "else:\n",
    "    print(\"Using existing 'combined_dialogue' column.\")\n",
    "\n",
    "\n",
    "def get_qwen_score(dialogue_text, max_retries=3):\n",
    "\n",
    "    prompt = f\"\"\"\n",
    "You are an impartial evaluator. \n",
    "Rate how much the two speakers in the following dialogue agree with each other (1–5).\n",
    "1 = totally disagree, 5 = totally agree.\n",
    "\n",
    "Dialogue:\n",
    "{dialogue_text}\n",
    "\n",
    "Please output ONLY the number (1–5).\n",
    "\"\"\"\n",
    "\n",
    "    for attempt in range(max_retries):\n",
    "        try:\n",
    "            response = requests.post(\n",
    "                \"http://localhost:11434/api/generate\",\n",
    "                json={\"model\": \"qwen2.5:7b\", \"prompt\": prompt},\n",
    "                stream=False,\n",
    "                timeout=120\n",
    "            )\n",
    "\n",
    "            # 嘗試解析 Ollama stream JSON\n",
    "            text = \"\"\n",
    "            for line in response.text.splitlines():\n",
    "                try:\n",
    "                    data = json.loads(line)\n",
    "                    if \"response\" in data:\n",
    "                        text += data[\"response\"]\n",
    "                except json.JSONDecodeError:\n",
    "                    continue\n",
    "\n",
    "            # 嘗試從模型回應中提取分數（1–5）\n",
    "            match = re.search(r\"[1-5]\", text)\n",
    "            if match:\n",
    "                return int(match.group())\n",
    "\n",
    "        except Exception as e:\n",
    "            print(f\"⚠️ Attempt {attempt+1} failed: {e}\")\n",
    "            time.sleep(3)\n",
    "\n",
    "    return None\n",
    "\n",
    "\n",
    "\n",
    "scores = []\n",
    "for dialogue in tqdm(df[\"combined_dialogue\"], desc=\"🧠 Evaluating with Qwen2.5-7B...\"):\n",
    "    score = get_qwen_score(dialogue)\n",
    "    scores.append(score)\n",
    "\n",
    "df[\"agreement_score\"] = scores\n",
    "\n",
    "\n",
    "output_file = \"llama3_dialogue_qwen_scores.csv\"\n",
    "df.to_csv(output_file, index=False, encoding=\"utf-8-sig\")\n",
    "print(f\"✅ Done! Results saved as {output_file}\")"
   ]
  },
  {
   "cell_type": "code",
   "execution_count": null,
   "id": "afe65d0e-d96c-479b-bf96-4b251e75343a",
   "metadata": {},
   "outputs": [],
   "source": []
  }
 ],
 "metadata": {
  "kernelspec": {
   "display_name": "Python [conda env:anaconda3] *",
   "language": "python",
   "name": "conda-env-anaconda3-py"
  },
  "language_info": {
   "codemirror_mode": {
    "name": "ipython",
    "version": 3
   },
   "file_extension": ".py",
   "mimetype": "text/x-python",
   "name": "python",
   "nbconvert_exporter": "python",
   "pygments_lexer": "ipython3",
   "version": "3.11.5"
  }
 },
 "nbformat": 4,
 "nbformat_minor": 5
}
